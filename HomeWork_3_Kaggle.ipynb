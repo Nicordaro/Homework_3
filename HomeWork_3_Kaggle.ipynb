{
  "nbformat": 4,
  "nbformat_minor": 0,
  "metadata": {
    "kernelspec": {
      "language": "python",
      "display_name": "Python 3",
      "name": "python3"
    },
    "language_info": {
      "pygments_lexer": "ipython3",
      "nbconvert_exporter": "python",
      "version": "3.6.4",
      "file_extension": ".py",
      "codemirror_mode": {
        "name": "ipython",
        "version": 3
      },
      "name": "python",
      "mimetype": "text/x-python"
    },
    "colab": {
      "name": "HomeWork_3_Kaggle.ipynb",
      "provenance": [],
      "collapsed_sections": [],
      "include_colab_link": true
    },
    "accelerator": "GPU",
    "widgets": {
      "application/vnd.jupyter.widget-state+json": {
        "c7ec33947e8741d2a981995b59dea243": {
          "model_module": "@jupyter-widgets/controls",
          "model_name": "HBoxModel",
          "state": {
            "_view_name": "HBoxView",
            "_dom_classes": [],
            "_model_name": "HBoxModel",
            "_view_module": "@jupyter-widgets/controls",
            "_model_module_version": "1.5.0",
            "_view_count": null,
            "_view_module_version": "1.5.0",
            "box_style": "",
            "layout": "IPY_MODEL_0adae655968d45d8be7d2b6a0b820780",
            "_model_module": "@jupyter-widgets/controls",
            "children": [
              "IPY_MODEL_a8ccf135fea0434da8779f2d9c402f22",
              "IPY_MODEL_d1674626731648b9ad42a41ad10a0067"
            ]
          }
        },
        "0adae655968d45d8be7d2b6a0b820780": {
          "model_module": "@jupyter-widgets/base",
          "model_name": "LayoutModel",
          "state": {
            "_view_name": "LayoutView",
            "grid_template_rows": null,
            "right": null,
            "justify_content": null,
            "_view_module": "@jupyter-widgets/base",
            "overflow": null,
            "_model_module_version": "1.2.0",
            "_view_count": null,
            "flex_flow": null,
            "width": null,
            "min_width": null,
            "border": null,
            "align_items": null,
            "bottom": null,
            "_model_module": "@jupyter-widgets/base",
            "top": null,
            "grid_column": null,
            "overflow_y": null,
            "overflow_x": null,
            "grid_auto_flow": null,
            "grid_area": null,
            "grid_template_columns": null,
            "flex": null,
            "_model_name": "LayoutModel",
            "justify_items": null,
            "grid_row": null,
            "max_height": null,
            "align_content": null,
            "visibility": null,
            "align_self": null,
            "height": null,
            "min_height": null,
            "padding": null,
            "grid_auto_rows": null,
            "grid_gap": null,
            "max_width": null,
            "order": null,
            "_view_module_version": "1.2.0",
            "grid_template_areas": null,
            "object_position": null,
            "object_fit": null,
            "grid_auto_columns": null,
            "margin": null,
            "display": null,
            "left": null
          }
        },
        "a8ccf135fea0434da8779f2d9c402f22": {
          "model_module": "@jupyter-widgets/controls",
          "model_name": "FloatProgressModel",
          "state": {
            "_view_name": "ProgressView",
            "style": "IPY_MODEL_bf5fe8d4d5df488bb08ae4fb03b55b51",
            "_dom_classes": [],
            "description": "100%",
            "_model_name": "FloatProgressModel",
            "bar_style": "success",
            "max": 244418560,
            "_view_module": "@jupyter-widgets/controls",
            "_model_module_version": "1.5.0",
            "value": 244418560,
            "_view_count": null,
            "_view_module_version": "1.5.0",
            "orientation": "horizontal",
            "min": 0,
            "description_tooltip": null,
            "_model_module": "@jupyter-widgets/controls",
            "layout": "IPY_MODEL_c8dbe867fb374fe382c490e54bb01ee1"
          }
        },
        "d1674626731648b9ad42a41ad10a0067": {
          "model_module": "@jupyter-widgets/controls",
          "model_name": "HTMLModel",
          "state": {
            "_view_name": "HTMLView",
            "style": "IPY_MODEL_775c658264ee4292b91390adbc883535",
            "_dom_classes": [],
            "description": "",
            "_model_name": "HTMLModel",
            "placeholder": "​",
            "_view_module": "@jupyter-widgets/controls",
            "_model_module_version": "1.5.0",
            "value": " 233M/233M [00:18&lt;00:00, 13.4MB/s]",
            "_view_count": null,
            "_view_module_version": "1.5.0",
            "description_tooltip": null,
            "_model_module": "@jupyter-widgets/controls",
            "layout": "IPY_MODEL_fb4abba1acc240f7826eeb47b688a3d6"
          }
        },
        "bf5fe8d4d5df488bb08ae4fb03b55b51": {
          "model_module": "@jupyter-widgets/controls",
          "model_name": "ProgressStyleModel",
          "state": {
            "_view_name": "StyleView",
            "_model_name": "ProgressStyleModel",
            "description_width": "initial",
            "_view_module": "@jupyter-widgets/base",
            "_model_module_version": "1.5.0",
            "_view_count": null,
            "_view_module_version": "1.2.0",
            "bar_color": null,
            "_model_module": "@jupyter-widgets/controls"
          }
        },
        "c8dbe867fb374fe382c490e54bb01ee1": {
          "model_module": "@jupyter-widgets/base",
          "model_name": "LayoutModel",
          "state": {
            "_view_name": "LayoutView",
            "grid_template_rows": null,
            "right": null,
            "justify_content": null,
            "_view_module": "@jupyter-widgets/base",
            "overflow": null,
            "_model_module_version": "1.2.0",
            "_view_count": null,
            "flex_flow": null,
            "width": null,
            "min_width": null,
            "border": null,
            "align_items": null,
            "bottom": null,
            "_model_module": "@jupyter-widgets/base",
            "top": null,
            "grid_column": null,
            "overflow_y": null,
            "overflow_x": null,
            "grid_auto_flow": null,
            "grid_area": null,
            "grid_template_columns": null,
            "flex": null,
            "_model_name": "LayoutModel",
            "justify_items": null,
            "grid_row": null,
            "max_height": null,
            "align_content": null,
            "visibility": null,
            "align_self": null,
            "height": null,
            "min_height": null,
            "padding": null,
            "grid_auto_rows": null,
            "grid_gap": null,
            "max_width": null,
            "order": null,
            "_view_module_version": "1.2.0",
            "grid_template_areas": null,
            "object_position": null,
            "object_fit": null,
            "grid_auto_columns": null,
            "margin": null,
            "display": null,
            "left": null
          }
        },
        "775c658264ee4292b91390adbc883535": {
          "model_module": "@jupyter-widgets/controls",
          "model_name": "DescriptionStyleModel",
          "state": {
            "_view_name": "StyleView",
            "_model_name": "DescriptionStyleModel",
            "description_width": "",
            "_view_module": "@jupyter-widgets/base",
            "_model_module_version": "1.5.0",
            "_view_count": null,
            "_view_module_version": "1.2.0",
            "_model_module": "@jupyter-widgets/controls"
          }
        },
        "fb4abba1acc240f7826eeb47b688a3d6": {
          "model_module": "@jupyter-widgets/base",
          "model_name": "LayoutModel",
          "state": {
            "_view_name": "LayoutView",
            "grid_template_rows": null,
            "right": null,
            "justify_content": null,
            "_view_module": "@jupyter-widgets/base",
            "overflow": null,
            "_model_module_version": "1.2.0",
            "_view_count": null,
            "flex_flow": null,
            "width": null,
            "min_width": null,
            "border": null,
            "align_items": null,
            "bottom": null,
            "_model_module": "@jupyter-widgets/base",
            "top": null,
            "grid_column": null,
            "overflow_y": null,
            "overflow_x": null,
            "grid_auto_flow": null,
            "grid_area": null,
            "grid_template_columns": null,
            "flex": null,
            "_model_name": "LayoutModel",
            "justify_items": null,
            "grid_row": null,
            "max_height": null,
            "align_content": null,
            "visibility": null,
            "align_self": null,
            "height": null,
            "min_height": null,
            "padding": null,
            "grid_auto_rows": null,
            "grid_gap": null,
            "max_width": null,
            "order": null,
            "_view_module_version": "1.2.0",
            "grid_template_areas": null,
            "object_position": null,
            "object_fit": null,
            "grid_auto_columns": null,
            "margin": null,
            "display": null,
            "left": null
          }
        }
      }
    }
  },
  "cells": [
    {
      "cell_type": "markdown",
      "metadata": {
        "id": "view-in-github",
        "colab_type": "text"
      },
      "source": [
        "<a href=\"https://colab.research.google.com/github/Nicordaro/Homework_3/blob/master/HomeWork_3_Kaggle.ipynb\" target=\"_parent\"><img src=\"https://colab.research.google.com/assets/colab-badge.svg\" alt=\"Open In Colab\"/></a>"
      ]
    },
    {
      "cell_type": "markdown",
      "metadata": {
        "id": "c9QcGnGPdX2C",
        "colab_type": "text"
      },
      "source": [
        "\n",
        "**Install requirements**"
      ]
    },
    {
      "cell_type": "code",
      "metadata": {
        "id": "4bQBpovOaEI1",
        "colab_type": "code",
        "colab": {}
      },
      "source": [
        "def loss_plot(losses, steps):\n",
        "  ### FOR MEAN STD PLOT https://stackoverflow.com/questions/22481854/plot-mean-and-standard-deviation\n",
        "  from scipy import interpolate\n",
        "\n",
        "  tck,u     = interpolate.splprep([steps,losses],s = 0 )\n",
        "  xnew,ynew = interpolate.splev( np.linspace( 0, 1, 1000 ), tck,der = 0)\n",
        "\n",
        "  fig, ax = plt.subplots(figsize=(20,19), facecolor='white')\n",
        "\n",
        "  plt.rc('font', size=20)\n",
        "  plt.plot(steps,losses,'.' , xnew ,ynew, label = \"accuracy\", c='red' )\n",
        "  ax.set_ylabel(\"Loss\")\n",
        "  ax.set_xlabel(\"Steps\")\n",
        "  ax.minorticks_on()\n",
        "  plt.title(\"Loss trend\")\n",
        "  plt.yticks(np.arange(0, 2.1, .1))\n",
        "  plt.xticks(np.arange(0, 180, 10))\n",
        "  plt.grid(axis='y',which='major', linestyle='-', linewidth='0.5', color='black') \n",
        "  plt.grid(axis='y',which='minor', linestyle=':', linewidth='0.5', color='grey')\n",
        "  for in_i, in_j in zip(steps, losses):  # Plot also the value of the point close to it\n",
        "    if (in_i-1)%30 ==0 or in_i-1 ==0 or in_i-1==170:\n",
        "      ax.annotate(str(round(in_j, 5)), xy=(in_i, in_j))\n",
        "\n",
        "  plt.savefig('test.png', format='png', dpi=300)\n",
        "  plt.show()"
      ],
      "execution_count": 0,
      "outputs": []
    },
    {
      "cell_type": "markdown",
      "metadata": {
        "id": "fo942LMOdlh4",
        "colab_type": "text"
      },
      "source": [
        "**Import libraries**"
      ]
    },
    {
      "cell_type": "code",
      "metadata": {
        "id": "DokFOdD1dJEl",
        "trusted": true,
        "colab_type": "code",
        "colab": {}
      },
      "source": [
        "import os\n",
        "import copy\n",
        "import logging\n",
        "\n",
        "import torch\n",
        "import torch.nn as nn\n",
        "import torch.optim as optim\n",
        "from torch.utils.data import Subset, DataLoader\n",
        "from torch.backends import cudnn\n",
        "from torch.hub import load_state_dict_from_url\n",
        "from torch.autograd import Function\n",
        "import numpy as np\n",
        "import matplotlib.pyplot as plt\n",
        "\n",
        "\n",
        "import torchvision\n",
        "from torchvision import transforms\n",
        "from torchvision.models import alexnet\n",
        "from torchvision.datasets import ImageFolder\n",
        "\n",
        "from PIL import Image\n",
        "from tqdm import tqdm"
      ],
      "execution_count": 0,
      "outputs": []
    },
    {
      "cell_type": "markdown",
      "metadata": {
        "id": "OIDLJuIXK_vh",
        "colab_type": "text"
      },
      "source": [
        "**Set Arguments**"
      ]
    },
    {
      "cell_type": "code",
      "metadata": {
        "id": "d5PkYfqfK_SA",
        "trusted": true,
        "colab_type": "code",
        "colab": {}
      },
      "source": [
        "DEVICE = 'cuda' # 'cuda' or 'cpu'\n",
        "\n",
        "NUM_CLASSES = 7      # 101 + 1: There is am extra Background class that should be removed \n",
        "\n",
        "BATCH_SIZE = 256     # Higher batch sizes allows for larger learning rates. An empirical heuristic suggests that, when changing\n",
        "                     # the batch size, learning rate should change by the same factor to have comparable results\n",
        "\n",
        "LR =  1e-3           # The initial Learning Rate\n",
        "LR_DANN = 1e-3\n",
        "MOMENTUM = 0.9       # Hyperparameter for SGD, keep this at 0.9 when using SGD\n",
        "WEIGHT_DECAY = 5e-5  # Regularization, you can keep this at the default\n",
        "\n",
        "NUM_EPOCHS = 30      # Total number of training epochs (iterations over dataset)\n",
        "STEP_SIZE = 20       # How many epochs before decreasing learning rate (if using a step-down policy)\n",
        "GAMMA = 0.1          # Multiplicative factor for learning rate step-down\n",
        "\n",
        "LOG_FREQUENCY = 10"
      ],
      "execution_count": 0,
      "outputs": []
    },
    {
      "cell_type": "markdown",
      "metadata": {
        "id": "9gwii0TBHvzh",
        "colab_type": "text"
      },
      "source": [
        "**Define Data Preprocessing**"
      ]
    },
    {
      "cell_type": "code",
      "metadata": {
        "id": "QUDdw4j2H0Mc",
        "trusted": true,
        "colab_type": "code",
        "colab": {}
      },
      "source": [
        "# Define transforms for training phase\n",
        "train_transform = transforms.Compose([transforms.Resize(256),      # Resizes short size of the PIL image to 256\n",
        "                                      transforms.CenterCrop(224),  # Crops a central square patch of the image\n",
        "                                                                   # 224 because torchvision's AlexNet needs a 224x224 input!\n",
        "                                                                   # Remember this when applying different transformations, otherwise you get an error\n",
        "                                      transforms.ToTensor(), # Turn PIL Image to torch.Tensor\n",
        "                                      transforms.Normalize((0.485, 0.456, 0.406), (0.229, 0.224, 0.225)) # Normalizes tensor with mean and standard deviation\n",
        "])\n",
        "# Define transforms for the evaluation phase\n",
        "eval_transform = transforms.Compose([transforms.Resize(256),\n",
        "                                      transforms.CenterCrop(224),\n",
        "                                      transforms.ToTensor(),\n",
        "                                      transforms.Normalize((0.485, 0.456, 0.406), (0.229, 0.224, 0.225))                                 \n",
        "])"
      ],
      "execution_count": 0,
      "outputs": []
    },
    {
      "cell_type": "markdown",
      "metadata": {
        "id": "2qYIHPzYLY7i",
        "colab_type": "text"
      },
      "source": [
        "**Prepare Dataset**"
      ]
    },
    {
      "cell_type": "code",
      "metadata": {
        "id": "QfVq_uDHLbsR",
        "trusted": true,
        "colab_type": "code",
        "outputId": "b3dddd7b-b0df-467e-85fb-ed2b74ea24a8",
        "colab": {
          "base_uri": "https://localhost:8080/",
          "height": 126
        }
      },
      "source": [
        "# Clone github repository with data\n",
        "if not os.path.isdir('./Homework3-PACS'):\n",
        "  !git clone https://github.com/MachineLearning2020/Homework3-PACS\n",
        "\n",
        "DATA_DIR = 'Homework3-PACS/PACS'\n",
        "\n",
        "# Read folder for each domain\n",
        "Arts = ImageFolder(DATA_DIR+\"/art_painting\", transform=eval_transform)\n",
        "Cartoons = ImageFolder(DATA_DIR+\"/cartoon\", transform=train_transform) \n",
        "Photos = ImageFolder(DATA_DIR+\"/photo\", transform=train_transform) \n",
        "Sketches = ImageFolder(DATA_DIR+\"/sketch\", transform=train_transform)"
      ],
      "execution_count": 0,
      "outputs": [
        {
          "output_type": "stream",
          "text": [
            "Cloning into 'Homework3-PACS'...\n",
            "remote: Enumerating objects: 10032, done.\u001b[K\n",
            "remote: Total 10032 (delta 0), reused 0 (delta 0), pack-reused 10032\u001b[K\n",
            "Receiving objects: 100% (10032/10032), 174.13 MiB | 13.16 MiB/s, done.\n",
            "Resolving deltas: 100% (1/1), done.\n",
            "Checking out files: 100% (9993/9993), done.\n"
          ],
          "name": "stdout"
        }
      ]
    },
    {
      "cell_type": "markdown",
      "metadata": {
        "id": "FYEDQ7Z21ldN",
        "colab_type": "text"
      },
      "source": [
        "**Prepare Dataloaders**"
      ]
    },
    {
      "cell_type": "code",
      "metadata": {
        "id": "VriRw8SI1nle",
        "trusted": true,
        "colab_type": "code",
        "colab": {}
      },
      "source": [
        "# Dataloaders iterate over pytorch datasets and transparently provide useful functions (e.g. parallelization and shuffling)\n",
        "source_dataloader = DataLoader(Photos, batch_size=BATCH_SIZE, shuffle=True, num_workers=4, drop_last=True)\n",
        "target_dataloader = DataLoader(Arts, batch_size=BATCH_SIZE, shuffle=True, num_workers=4, drop_last=True)\n",
        "test_dataloader = DataLoader(Arts, batch_size=BATCH_SIZE, shuffle=False, num_workers=4)"
      ],
      "execution_count": 0,
      "outputs": []
    },
    {
      "cell_type": "markdown",
      "metadata": {
        "id": "gbZ1t5Qs2z4j",
        "colab_type": "text"
      },
      "source": [
        "**Netwok implementation**\n"
      ]
    },
    {
      "cell_type": "code",
      "metadata": {
        "id": "exHUjtXa22DN",
        "trusted": true,
        "colab_type": "code",
        "colab": {}
      },
      "source": [
        "import torch\n",
        "import torch.nn as nn\n",
        "from torch.hub import load_state_dict_from_url\n",
        "from torch.autograd import Function\n",
        "\n",
        "\n",
        "\n",
        "__all__ = ['AlexNet', 'alexnet']\n",
        "\n",
        "\n",
        "model_urls = {\n",
        "    'alexnet': 'https://download.pytorch.org/models/alexnet-owt-4df8aa71.pth',\n",
        "}\n",
        "\n",
        "class ReverseLayerF(Function):\n",
        "    # Forwards identity\n",
        "    # Sends backward reversed gradients\n",
        "    @staticmethod\n",
        "    def forward(ctx, x, alpha):\n",
        "        ctx.alpha = alpha\n",
        "\n",
        "        return x.view_as(x)\n",
        "\n",
        "    @staticmethod\n",
        "    def backward(ctx, grad_output):\n",
        "        output = grad_output.neg() * ctx.alpha\n",
        "\n",
        "        return output, None\n",
        "\n",
        "\n",
        "class AlexNet(nn.Module):\n",
        "\n",
        "    def __init__(self, num_classes=1000):\n",
        "        super(AlexNet, self).__init__()\n",
        "        self.features = nn.Sequential(\n",
        "            nn.Conv2d(3, 64, kernel_size=11, stride=4, padding=2),\n",
        "            nn.ReLU(inplace=True),\n",
        "            nn.MaxPool2d(kernel_size=3, stride=2),\n",
        "            nn.Conv2d(64, 192, kernel_size=5, padding=2),\n",
        "            nn.ReLU(inplace=True),\n",
        "            nn.MaxPool2d(kernel_size=3, stride=2),\n",
        "            nn.Conv2d(192, 384, kernel_size=3, padding=1),\n",
        "            nn.ReLU(inplace=True),\n",
        "            nn.Conv2d(384, 256, kernel_size=3, padding=1),\n",
        "            nn.ReLU(inplace=True),\n",
        "            nn.Conv2d(256, 256, kernel_size=3, padding=1),\n",
        "            nn.ReLU(inplace=True),\n",
        "            nn.MaxPool2d(kernel_size=3, stride=2),\n",
        "        )\n",
        "        self.avgpool = nn.AdaptiveAvgPool2d((6, 6))\n",
        "        self.classifier = nn.Sequential(\n",
        "            nn.Dropout(),\n",
        "            nn.Linear(256 * 6 * 6, 4096),\n",
        "            nn.ReLU(inplace=True),\n",
        "            nn.Dropout(),\n",
        "            nn.Linear(4096, 4096),\n",
        "            nn.ReLU(inplace=True),\n",
        "            nn.Linear(4096, num_classes),\n",
        "        )\n",
        "\n",
        "        self.gradientdomain_classifier = nn.Sequential(\n",
        "            nn.Dropout(),\n",
        "            nn.Linear(256 * 6 * 6, 4096),\n",
        "            nn.ReLU(inplace=True),\n",
        "            nn.Dropout(),\n",
        "            nn.Linear(4096, 4096),\n",
        "            nn.ReLU(inplace=True),\n",
        "            nn.Linear(4096, 2), #Domain classifier has to tell if the images comes from source or target, so 2 classes\n",
        "        )\n",
        "\n",
        "    def forward(self, x, alpha=None):\n",
        "      features = self.features(x)\n",
        "    \n",
        "      # If we pass alpha, we can assume we are training the discriminator\n",
        "      if alpha is not None:\n",
        "          # gradient reversal layer (backward gradients will be reversed)\n",
        "          features = features.view(-1, 256 * 6 * 6) \n",
        "          reverse_features = ReverseLayerF.apply(features, alpha)\n",
        "          # Flatten the features:\n",
        "          discriminator_output = torch.flatten(reverse_features, 1)\n",
        "          discriminator_output = self.gradientdomain_classifier(discriminator_output)\n",
        "          return discriminator_output\n",
        "      # If we don't pass alpha, we assume we are training with supervision\n",
        "      else:\n",
        "          # do something else\n",
        "          class_outputs = self.avgpool(features)\n",
        "          # Flatten the features:\n",
        "          class_outputs = torch.flatten(class_outputs,1)\n",
        "          class_outputs = self.classifier(class_outputs)\n",
        "          return class_outputs\n",
        "\n",
        "def dann(pretrained=False, progress=True, **kwargs):\n",
        "    r\"\"\"AlexNet model architecture from the\n",
        "    `\"One weird trick...\" <https://arxiv.org/abs/1404.5997>`_ paper.\n",
        "    Args:\n",
        "        pretrained (bool): If True, returns a model pre-trained on ImageNet\n",
        "        progress (bool): If True, displays a progress bar of the download to stderr\n",
        "    \"\"\"\n",
        "    model = AlexNet(**kwargs)\n",
        "    if pretrained:\n",
        "        state_dict = load_state_dict_from_url(model_urls['alexnet'],\n",
        "                                              progress=progress)\n",
        "        model.load_state_dict(state_dict, strict=False)\n",
        "        \n",
        "        model.gradientdomain_classifier[1].weight.data, model.gradientdomain_classifier[1].bias.data = model.classifier[1].weight.data, model.classifier[1].bias.data\n",
        "    return model"
      ],
      "execution_count": 0,
      "outputs": []
    },
    {
      "cell_type": "markdown",
      "metadata": {
        "id": "x4ACQEaGbnqv",
        "colab_type": "text"
      },
      "source": [
        "**Prepare Network**"
      ]
    },
    {
      "cell_type": "code",
      "metadata": {
        "id": "M0IGiIp-bpiE",
        "trusted": true,
        "colab_type": "code",
        "outputId": "56dca974-b0f6-4659-daa3-105f518a9c39",
        "colab": {
          "base_uri": "https://localhost:8080/",
          "height": 105,
          "referenced_widgets": [
            "c7ec33947e8741d2a981995b59dea243",
            "0adae655968d45d8be7d2b6a0b820780",
            "a8ccf135fea0434da8779f2d9c402f22",
            "d1674626731648b9ad42a41ad10a0067",
            "bf5fe8d4d5df488bb08ae4fb03b55b51",
            "c8dbe867fb374fe382c490e54bb01ee1",
            "775c658264ee4292b91390adbc883535",
            "fb4abba1acc240f7826eeb47b688a3d6"
          ]
        }
      },
      "source": [
        "alex_net = torchvision.models.alexnet(pretrained = True)\n",
        "dann_net = dann(pretrained = True)\n",
        "\n",
        "alex_net.classifier[6] = nn.Linear(4096, NUM_CLASSES)\n",
        "dann_net.classifier[6] = nn.Linear(4096, NUM_CLASSES)"
      ],
      "execution_count": 0,
      "outputs": [
        {
          "output_type": "stream",
          "text": [
            "Downloading: \"https://download.pytorch.org/models/alexnet-owt-4df8aa71.pth\" to /root/.cache/torch/checkpoints/alexnet-owt-4df8aa71.pth\n"
          ],
          "name": "stderr"
        },
        {
          "output_type": "display_data",
          "data": {
            "application/vnd.jupyter.widget-view+json": {
              "model_id": "c7ec33947e8741d2a981995b59dea243",
              "version_minor": 0,
              "version_major": 2
            },
            "text/plain": [
              "HBox(children=(FloatProgress(value=0.0, max=244418560.0), HTML(value='')))"
            ]
          },
          "metadata": {
            "tags": []
          }
        },
        {
          "output_type": "stream",
          "text": [
            "\n"
          ],
          "name": "stdout"
        }
      ]
    },
    {
      "cell_type": "markdown",
      "metadata": {
        "id": "KEyL3H_R4qCf",
        "colab_type": "text"
      },
      "source": [
        "**Prepare Training**"
      ]
    },
    {
      "cell_type": "code",
      "metadata": {
        "id": "9sjq00G94tSc",
        "trusted": true,
        "colab_type": "code",
        "colab": {}
      },
      "source": [
        "# Define loss function\n",
        "criterion = nn.CrossEntropyLoss() # for classification, we use Cross Entropy\n",
        "\n",
        "# Choose parameters to optimize\n",
        "# To access a different set of parameters, you have to access submodules of AlexNet\n",
        "# (nn.Module objects, like AlexNet, implement the Composite Pattern)\n",
        "# e.g.: parameters of the fully connected layers: net.classifier.parameters()\n",
        "# e.g.: parameters of the convolutional layers: look at alexnet's source code ;) \n",
        "parameters_to_optimize = alex_net.parameters() # In this case we optimize over all the parameters of AlexNet\n",
        "dann_parameters_to_optimize = dann_net.parameters()\n",
        "# Define optimizer\n",
        "# An optimizer updates the weights based on loss\n",
        "# We use SGD with momentum\n",
        "optimizer = optim.SGD(parameters_to_optimize, lr=LR, momentum=MOMENTUM, weight_decay=WEIGHT_DECAY)\n",
        "dann_optimizer = optim.SGD(dann_parameters_to_optimize, lr=LR_DANN, momentum=MOMENTUM, weight_decay=WEIGHT_DECAY)\n",
        "# Define scheduler\n",
        "# A scheduler dynamically changes learning rate\n",
        "# The most common schedule is the step(-down), which multiplies learning rate by gamma every STEP_SIZE epochs\n",
        "scheduler = optim.lr_scheduler.StepLR(optimizer, step_size=STEP_SIZE, gamma=GAMMA)\n",
        "dann_scheduler = optim.lr_scheduler.StepLR(dann_optimizer, step_size=STEP_SIZE, gamma=GAMMA)"
      ],
      "execution_count": 0,
      "outputs": []
    },
    {
      "cell_type": "markdown",
      "metadata": {
        "id": "AxYUli9d9uYQ",
        "colab_type": "text"
      },
      "source": [
        "\n",
        "**Train**"
      ]
    },
    {
      "cell_type": "code",
      "metadata": {
        "id": "ZcoQ5fD49yT_",
        "trusted": true,
        "colab_type": "code",
        "outputId": "056c5d26-1fbc-4b04-9a70-26e9adc268ec",
        "colab": {
          "base_uri": "https://localhost:8080/",
          "height": 345
        }
      },
      "source": [
        "best_loss = 1000\n",
        "# By default, everything is loaded to cpu\n",
        "net = alex_net.to(DEVICE) # this will bring the network to GPU if DEVICE is cuda\n",
        "best_model = net\n",
        "cudnn.benchmark # Calling this optimizes runtime\n",
        "\n",
        "current_step = 0\n",
        "loss_trend = []\n",
        "# Start iterating over the epochs\n",
        "for epoch in range(NUM_EPOCHS):\n",
        "  #print('Starting epoch {}/{}, LR = {}'.format(epoch+1, NUM_EPOCHS, scheduler.get_lr()))\n",
        "\n",
        "  # Iterate over the dataset\n",
        "  for images, labels in source_dataloader:\n",
        "    # Bring data over the device of choice\n",
        "    images = images.to(DEVICE)\n",
        "    labels = labels.to(DEVICE)\n",
        "\n",
        "    net.train() # Sets module in training mode\n",
        "\n",
        "    # PyTorch, by default, accumulates gradients after each backward pass\n",
        "    # We need to manually set the gradients to zero before starting a new iteration\n",
        "    optimizer.zero_grad() # Zero-ing the gradients\n",
        "\n",
        "    # Forward pass to the network\n",
        "    outputs = net(images)\n",
        "\n",
        "    # Compute loss based on output and ground truth\n",
        "    loss = criterion(outputs, labels)\n",
        "    loss_trend.append(loss.item())\n",
        "\n",
        "    # Log loss\n",
        "    if current_step % LOG_FREQUENCY == 0:\n",
        "      print('Step {}, Loss {}'.format(current_step, loss.item()))\n",
        "\n",
        "    # Compute gradients for each layer and update weights\n",
        "    loss.backward()  # backward pass: computes gradients\n",
        "    optimizer.step() # update weights based on accumulated gradients\n",
        "\n",
        "    if loss < best_loss:\n",
        "      best_loss = loss\n",
        "      best_model = copy.deepcopy(net)\n",
        "\n",
        "    current_step += 1\n",
        "\n",
        "  # Step the scheduler\n",
        "  scheduler.step() "
      ],
      "execution_count": 0,
      "outputs": [
        {
          "output_type": "stream",
          "text": [
            "Step 0, Loss 2.175123929977417\n",
            "Step 10, Loss 0.34146201610565186\n",
            "Step 20, Loss 0.12543107569217682\n",
            "Step 30, Loss 0.0897255390882492\n",
            "Step 40, Loss 0.0651407539844513\n",
            "Step 50, Loss 0.049150750041007996\n",
            "Step 60, Loss 0.04911500960588455\n",
            "Step 70, Loss 0.03160706162452698\n",
            "Step 80, Loss 0.029546232894062996\n",
            "Step 90, Loss 0.03639266639947891\n",
            "Step 100, Loss 0.017276545986533165\n",
            "Step 110, Loss 0.008393230848014355\n",
            "Step 120, Loss 0.013344641774892807\n",
            "Step 130, Loss 0.016255728900432587\n",
            "Step 140, Loss 0.009040366858243942\n",
            "Step 150, Loss 0.01773073896765709\n",
            "Step 160, Loss 0.02077694982290268\n",
            "Step 170, Loss 0.014091924764215946\n"
          ],
          "name": "stdout"
        }
      ]
    },
    {
      "cell_type": "markdown",
      "metadata": {
        "id": "UsHFI-GAJd69",
        "colab_type": "text"
      },
      "source": [
        "**Test**"
      ]
    },
    {
      "cell_type": "code",
      "metadata": {
        "id": "EO3HV5pqJg1o",
        "trusted": true,
        "colab_type": "code",
        "outputId": "34d51e60-f9a3-4d90-991f-db33b0b22460",
        "colab": {
          "base_uri": "https://localhost:8080/",
          "height": 54
        }
      },
      "source": [
        "net = best_model\n",
        "net = net.to(DEVICE) # this will bring the network to GPU if DEVICE is cuda\n",
        "net.train(False) # Set Network to evaluation mode\n",
        "\n",
        "running_corrects = 0\n",
        "for images, labels in tqdm(test_dataloader):\n",
        "  images = images.to(DEVICE)\n",
        "  labels = labels.to(DEVICE)\n",
        "\n",
        "  # Forward Pass\n",
        "  outputs = net(images)\n",
        "\n",
        "  # Get predictions\n",
        "  _, preds = torch.max(outputs.data, 1)\n",
        "\n",
        "  # Update Corrects\n",
        "  running_corrects += torch.sum(preds == labels.data).data.item()\n",
        "\n",
        "# Calculate Accuracy\n",
        "accuracy = running_corrects / float(len(Arts))\n",
        "\n",
        "print('Test Accuracy: {}'.format(accuracy))"
      ],
      "execution_count": 0,
      "outputs": [
        {
          "output_type": "stream",
          "text": [
            "100%|██████████| 8/8 [00:06<00:00,  1.16it/s]"
          ],
          "name": "stderr"
        },
        {
          "output_type": "stream",
          "text": [
            "Test Accuracy: 0.5107421875\n"
          ],
          "name": "stdout"
        },
        {
          "output_type": "stream",
          "text": [
            "\n"
          ],
          "name": "stderr"
        }
      ]
    },
    {
      "cell_type": "code",
      "metadata": {
        "id": "Db5rLisXaBrK",
        "colab_type": "code",
        "outputId": "5737b225-45b7-491a-8d4b-61d098a8f12b",
        "colab": {
          "base_uri": "https://localhost:8080/",
          "height": 941
        }
      },
      "source": [
        "steps = np.arange(1,181, 1)\n",
        "loss_plot(loss_trend[::10], steps[::10])"
      ],
      "execution_count": 0,
      "outputs": [
        {
          "output_type": "display_data",
          "data": {
            "image/png": "[encoded data removed]",
            "text/plain": [
              "<Figure size 1440x1368 with 1 Axes>"
            ]
          },
          "metadata": {
            "tags": []
          }
        }
      ]
    },
    {
      "cell_type": "markdown",
      "metadata": {
        "id": "8XNW2AI-eybZ",
        "colab_type": "text"
      },
      "source": [
        "**Implement DANN**\n",
        "\n",
        "_TRAIN_\n"
      ]
    },
    {
      "cell_type": "code",
      "metadata": {
        "id": "F1Jpnz1ae0VB",
        "trusted": true,
        "colab_type": "code",
        "outputId": "fb867275-85f6-49d2-8972-d20da68e3ade",
        "colab": {
          "base_uri": "https://localhost:8080/",
          "height": 910
        }
      },
      "source": [
        "ALPHA = 0.09\n",
        "# By default, everything is loaded to cpu\n",
        "net = dann_net.to(DEVICE) # this will bring the network to GPU if DEVICE is cuda\n",
        "\n",
        "cudnn.benchmark # Calling this optimizes runtime\n",
        "\n",
        "loss1_trend=[]\n",
        "loss2_trend=[]\n",
        "loss3_trend=[]\n",
        "\n",
        "current_step = 0\n",
        "# Start iterating over the epochs\n",
        "for epoch in range(NUM_EPOCHS):\n",
        "  #print('Starting epoch {}/{}, LR = {}'.format(epoch+1, NUM_EPOCHS, dann_scheduler.get_lr()))\n",
        "\n",
        "  # Iterate over the dataset\n",
        "  for source_image in tqdm(source_dataloader):\n",
        "    # Bring data over the device of choice\n",
        "\n",
        "    target_image = next(iter(target_dataloader))\n",
        "    source_imgs, source_lbls = source_image\n",
        "    target_imgs, target_lbls = target_image\n",
        "\n",
        "    zeros = torch.zeros(source_lbls.shape, dtype=torch.long)\n",
        "    ones = torch.ones(target_lbls.shape, dtype=torch.long)\n",
        "    \n",
        "    source_imgs = source_imgs.to(DEVICE)\n",
        "    target_imgs = target_imgs.to(DEVICE)\n",
        "    source_lbls = source_lbls.to(DEVICE)\n",
        "    zeros = zeros.to(DEVICE)\n",
        "    ones = ones.to(DEVICE)\n",
        "\n",
        "    net.train() # Sets module in training mode\n",
        "\n",
        "    # PyTorch, by default, accumulates gradients after each backward pass\n",
        "    # We need to manually set the gradients to zero before starting a new iteration\n",
        "    dann_optimizer.zero_grad() # Zero-ing the gradients\n",
        "\n",
        "    outputs = net(source_imgs)\n",
        "    loss_1 = criterion(outputs, source_lbls)\n",
        "    loss_1.backward()\n",
        "\n",
        "    outputs = net(source_imgs, ALPHA)\n",
        "    loss_2 = criterion(outputs, zeros)\n",
        "    loss_2.backward()\n",
        "\n",
        "    outputs = net(target_imgs, ALPHA)\n",
        "    loss_3 = criterion(outputs, ones)\n",
        "    loss_3.backward()\n",
        "\n",
        "    loss1_trend.append(loss_1.item())\n",
        "    loss2_trend.append(loss_2.item())\n",
        "    loss3_trend.append(loss_3.item())\n",
        "\n",
        "    # Log loss\n",
        "    if current_step % LOG_FREQUENCY == 0:\n",
        "      print('Step {}, Loss1 {}, Loss2 {}, Loss3 {}'.format(current_step, loss_1.item(),loss_2.item(),loss_3.item()))\n",
        "    # Compute gradients for each layer and update weights\n",
        "    dann_optimizer.step() # update weights based on accumulated gradients\n",
        "\n",
        "    current_step += 1\n",
        "\n",
        "  # Step the scheduler\n",
        "  dann_scheduler.step()"
      ],
      "execution_count": 0,
      "outputs": [
        {
          "output_type": "stream",
          "text": [
            " 17%|█▋        | 1/6 [00:08<00:44,  8.85s/it]"
          ],
          "name": "stderr"
        },
        {
          "output_type": "stream",
          "text": [
            "Step 0, Loss1 1.9639809131622314, Loss2 0.8871272206306458, Loss3 0.7466468811035156\n"
          ],
          "name": "stdout"
        },
        {
          "output_type": "stream",
          "text": [
            "100%|██████████| 6/6 [00:35<00:00,  5.93s/it]\n",
            " 83%|████████▎ | 5/6 [00:29<00:06,  6.21s/it]"
          ],
          "name": "stderr"
        },
        {
          "output_type": "stream",
          "text": [
            "Step 10, Loss1 0.33895033597946167, Loss2 0.2934238612651825, Loss3 0.16132709383964539\n"
          ],
          "name": "stdout"
        },
        {
          "output_type": "stream",
          "text": [
            "100%|██████████| 6/6 [00:36<00:00,  6.07s/it]\n",
            "100%|██████████| 6/6 [00:37<00:00,  6.20s/it]\n",
            " 50%|█████     | 3/6 [00:18<00:20,  6.89s/it]"
          ],
          "name": "stderr"
        },
        {
          "output_type": "stream",
          "text": [
            "Step 20, Loss1 0.13257992267608643, Loss2 0.07960864156484604, Loss3 0.18909259140491486\n"
          ],
          "name": "stdout"
        },
        {
          "output_type": "stream",
          "text": [
            "100%|██████████| 6/6 [00:33<00:00,  5.63s/it]\n",
            "100%|██████████| 6/6 [00:38<00:00,  6.46s/it]\n",
            " 17%|█▋        | 1/6 [00:10<00:50, 10.10s/it]"
          ],
          "name": "stderr"
        },
        {
          "output_type": "stream",
          "text": [
            "Step 30, Loss1 0.09598290920257568, Loss2 0.05480716750025749, Loss3 0.2424221783876419\n"
          ],
          "name": "stdout"
        },
        {
          "output_type": "stream",
          "text": [
            "100%|██████████| 6/6 [00:35<00:00,  5.95s/it]\n",
            " 83%|████████▎ | 5/6 [00:31<00:06,  6.19s/it]"
          ],
          "name": "stderr"
        },
        {
          "output_type": "stream",
          "text": [
            "Step 40, Loss1 0.07644014060497284, Loss2 0.16270564496517181, Loss3 0.15803909301757812\n"
          ],
          "name": "stdout"
        },
        {
          "output_type": "stream",
          "text": [
            "100%|██████████| 6/6 [00:36<00:00,  6.16s/it]\n",
            "100%|██████████| 6/6 [00:40<00:00,  6.73s/it]\n",
            " 50%|█████     | 3/6 [00:21<00:24,  8.02s/it]"
          ],
          "name": "stderr"
        },
        {
          "output_type": "stream",
          "text": [
            "Step 50, Loss1 0.05946020781993866, Loss2 0.21198852360248566, Loss3 0.08011824637651443\n"
          ],
          "name": "stdout"
        },
        {
          "output_type": "stream",
          "text": [
            "100%|██████████| 6/6 [00:37<00:00,  6.33s/it]\n",
            "100%|██████████| 6/6 [00:38<00:00,  6.40s/it]\n",
            " 17%|█▋        | 1/6 [00:10<00:52, 10.59s/it]"
          ],
          "name": "stderr"
        },
        {
          "output_type": "stream",
          "text": [
            "Step 60, Loss1 0.06973162293434143, Loss2 0.04343237355351448, Loss3 0.12702134251594543\n"
          ],
          "name": "stdout"
        },
        {
          "output_type": "stream",
          "text": [
            "100%|██████████| 6/6 [00:35<00:00,  5.89s/it]\n",
            " 83%|████████▎ | 5/6 [00:35<00:07,  7.25s/it]"
          ],
          "name": "stderr"
        },
        {
          "output_type": "stream",
          "text": [
            "Step 70, Loss1 0.03636720031499863, Loss2 0.10814905166625977, Loss3 0.05368258059024811\n"
          ],
          "name": "stdout"
        },
        {
          "output_type": "stream",
          "text": [
            "100%|██████████| 6/6 [00:42<00:00,  7.01s/it]\n",
            "100%|██████████| 6/6 [00:36<00:00,  6.16s/it]\n",
            " 50%|█████     | 3/6 [00:23<00:25,  8.44s/it]"
          ],
          "name": "stderr"
        },
        {
          "output_type": "stream",
          "text": [
            "Step 80, Loss1 0.023427464067935944, Loss2 0.07662323117256165, Loss3 0.12197264283895493\n"
          ],
          "name": "stdout"
        },
        {
          "output_type": "stream",
          "text": [
            "100%|██████████| 6/6 [00:38<00:00,  6.41s/it]\n",
            "100%|██████████| 6/6 [00:37<00:00,  6.28s/it]\n",
            " 17%|█▋        | 1/6 [00:09<00:47,  9.43s/it]"
          ],
          "name": "stderr"
        },
        {
          "output_type": "stream",
          "text": [
            "Step 90, Loss1 0.03308931738138199, Loss2 0.08276936411857605, Loss3 0.10766209661960602\n"
          ],
          "name": "stdout"
        },
        {
          "output_type": "stream",
          "text": [
            "100%|██████████| 6/6 [00:33<00:00,  5.53s/it]\n",
            " 83%|████████▎ | 5/6 [00:30<00:06,  6.49s/it]"
          ],
          "name": "stderr"
        },
        {
          "output_type": "stream",
          "text": [
            "Step 100, Loss1 0.017445722594857216, Loss2 0.06018948182463646, Loss3 0.12740831077098846\n"
          ],
          "name": "stdout"
        },
        {
          "output_type": "stream",
          "text": [
            "100%|██████████| 6/6 [00:36<00:00,  6.13s/it]\n",
            "100%|██████████| 6/6 [00:33<00:00,  5.62s/it]\n",
            " 50%|█████     | 3/6 [00:18<00:20,  6.89s/it]"
          ],
          "name": "stderr"
        },
        {
          "output_type": "stream",
          "text": [
            "Step 110, Loss1 0.019436221569776535, Loss2 0.07454022765159607, Loss3 0.129596546292305\n"
          ],
          "name": "stdout"
        },
        {
          "output_type": "stream",
          "text": [
            "100%|██████████| 6/6 [00:34<00:00,  5.82s/it]\n",
            "100%|██████████| 6/6 [00:37<00:00,  6.22s/it]\n",
            " 17%|█▋        | 1/6 [00:10<00:51, 10.29s/it]"
          ],
          "name": "stderr"
        },
        {
          "output_type": "stream",
          "text": [
            "Step 120, Loss1 0.021931925788521767, Loss2 0.05566048622131348, Loss3 0.1087050810456276\n"
          ],
          "name": "stdout"
        },
        {
          "output_type": "stream",
          "text": [
            "100%|██████████| 6/6 [00:39<00:00,  6.50s/it]\n",
            " 83%|████████▎ | 5/6 [00:32<00:06,  6.54s/it]"
          ],
          "name": "stderr"
        },
        {
          "output_type": "stream",
          "text": [
            "Step 130, Loss1 0.016348715871572495, Loss2 0.14562800526618958, Loss3 0.05683748051524162\n"
          ],
          "name": "stdout"
        },
        {
          "output_type": "stream",
          "text": [
            "100%|██████████| 6/6 [00:38<00:00,  6.50s/it]\n",
            "100%|██████████| 6/6 [00:38<00:00,  6.41s/it]\n",
            " 50%|█████     | 3/6 [00:19<00:21,  7.00s/it]"
          ],
          "name": "stderr"
        },
        {
          "output_type": "stream",
          "text": [
            "Step 140, Loss1 0.02296951226890087, Loss2 0.04247312992811203, Loss3 0.09091977030038834\n"
          ],
          "name": "stdout"
        },
        {
          "output_type": "stream",
          "text": [
            "100%|██████████| 6/6 [00:37<00:00,  6.19s/it]\n",
            "100%|██████████| 6/6 [00:36<00:00,  6.03s/it]\n",
            " 17%|█▋        | 1/6 [00:10<00:53, 10.61s/it]"
          ],
          "name": "stderr"
        },
        {
          "output_type": "stream",
          "text": [
            "Step 150, Loss1 0.019031601026654243, Loss2 0.090369313955307, Loss3 0.05316461622714996\n"
          ],
          "name": "stdout"
        },
        {
          "output_type": "stream",
          "text": [
            "100%|██████████| 6/6 [00:39<00:00,  6.58s/it]\n",
            " 83%|████████▎ | 5/6 [00:33<00:06,  6.81s/it]"
          ],
          "name": "stderr"
        },
        {
          "output_type": "stream",
          "text": [
            "Step 160, Loss1 0.014020035974681377, Loss2 0.05312690883874893, Loss3 0.13544799387454987\n"
          ],
          "name": "stdout"
        },
        {
          "output_type": "stream",
          "text": [
            "100%|██████████| 6/6 [00:39<00:00,  6.63s/it]\n",
            "100%|██████████| 6/6 [00:38<00:00,  6.44s/it]\n",
            " 50%|█████     | 3/6 [00:20<00:23,  7.70s/it]"
          ],
          "name": "stderr"
        },
        {
          "output_type": "stream",
          "text": [
            "Step 170, Loss1 0.00924382358789444, Loss2 0.09483758360147476, Loss3 0.061831530183553696\n"
          ],
          "name": "stdout"
        },
        {
          "output_type": "stream",
          "text": [
            "100%|██████████| 6/6 [00:36<00:00,  6.11s/it]\n",
            "100%|██████████| 6/6 [00:35<00:00,  5.97s/it]\n"
          ],
          "name": "stderr"
        }
      ]
    },
    {
      "cell_type": "markdown",
      "metadata": {
        "id": "8Yqa6Wnc4yMQ",
        "colab_type": "text"
      },
      "source": [
        "**Implement DANN**\n",
        "\n",
        "_TEST_\n"
      ]
    },
    {
      "cell_type": "code",
      "metadata": {
        "id": "ywe7HBL_z_wp",
        "trusted": true,
        "colab_type": "code",
        "outputId": "22db0a5d-b62b-4f8a-aa63-d92bef3ba7d5",
        "colab": {
          "base_uri": "https://localhost:8080/",
          "height": 54
        }
      },
      "source": [
        "net = net.to(DEVICE) # this will bring the network to GPU if DEVICE is cuda\n",
        "net.train(False) # Set Network to evaluation mode\n",
        "\n",
        "running_corrects = 0\n",
        "for images, labels in tqdm(test_dataloader):\n",
        "  images = images.to(DEVICE)\n",
        "  labels = labels.to(DEVICE)\n",
        "\n",
        "  # Forward Pass\n",
        "  outputs = net(images)\n",
        "\n",
        "  # Get predictions\n",
        "  _, preds = torch.max(outputs.data, 1)\n",
        "\n",
        "  # Update Corrects\n",
        "  running_corrects += torch.sum(preds == labels.data).data.item()\n",
        "\n",
        "# Calculate Accuracy\n",
        "accuracy = running_corrects / float(len(Arts))\n",
        "\n",
        "print('Test Accuracy: {}'.format(accuracy))"
      ],
      "execution_count": 0,
      "outputs": [
        {
          "output_type": "stream",
          "text": [
            "100%|██████████| 8/8 [00:06<00:00,  1.24it/s]"
          ],
          "name": "stderr"
        },
        {
          "output_type": "stream",
          "text": [
            "Test Accuracy: 0.48974609375\n"
          ],
          "name": "stdout"
        },
        {
          "output_type": "stream",
          "text": [
            "\n"
          ],
          "name": "stderr"
        }
      ]
    },
    {
      "cell_type": "markdown",
      "metadata": {
        "id": "leyYedLqH3cN",
        "colab_type": "text"
      },
      "source": [
        "**XDomain Validation w/o DANN**\n",
        "\n"
      ]
    },
    {
      "cell_type": "markdown",
      "metadata": {
        "id": "Ke0gJsEoxxvB",
        "colab_type": "text"
      },
      "source": [
        "*TRAIN*\n"
      ]
    },
    {
      "cell_type": "code",
      "metadata": {
        "id": "5IzpCx4GH7gK",
        "trusted": true,
        "colab_type": "code",
        "colab": {}
      },
      "source": [
        "# ALPHAs = np.arange(0.01, 0.11, .02)\n",
        "# LRs = [0.001, 0.004, 0.01, 0.1, 1]\n",
        "# Bsize = [128, 256]  \n",
        "# NUM_EPOCHS = 10\n",
        "# best_accuracy = 0\n",
        "# # By default, everything is loaded to cpu\n",
        "\n",
        "# for ALPHA in ALPHAs:\n",
        "#   for LR in LRs:\n",
        "#     for BATCH_SIZE in Bsize:\n",
        "#       print(f\"Setting up a net with: lr={LR}, batch_size={BATCH_SIZE}, alpha={ALPHA}\\n\")\n",
        "\n",
        "#       source_dataloader = DataLoader(Photos, batch_size=BATCH_SIZE, shuffle=True, num_workers=4, drop_last=True)\n",
        "#       target_dataloader = DataLoader(Cartoons, batch_size=BATCH_SIZE, shuffle=True, num_workers=4, drop_last=True)\n",
        "#       test_dataloader = DataLoader(Cartoons, batch_size=BATCH_SIZE, shuffle=False, num_workers=4)\n",
        "\n",
        "      \n",
        "      \n",
        "#       #SETTING UP NET\n",
        "#       dann_net = dann(pretrained = True)\n",
        "#       dann_net.classifier[6] = nn.Linear(4096, NUM_CLASSES)\n",
        "#       criterion = nn.CrossEntropyLoss() # for classification, we use Cross Entropy\n",
        "#       dann_parameters_to_optimize = dann_net.parameters()\n",
        "#       dann_optimizer = optim.SGD(dann_parameters_to_optimize, lr=LR, momentum=MOMENTUM, weight_decay=WEIGHT_DECAY)\n",
        "#       dann_scheduler = optim.lr_scheduler.StepLR(dann_optimizer, step_size=STEP_SIZE, gamma=GAMMA)\n",
        "\n",
        "#       net = dann_net.to(DEVICE) # this will bring the network to GPU if DEVICE is cuda\n",
        "\n",
        "#       cudnn.benchmark # Calling this optimizes runtime\n",
        "\n",
        "#       current_step = 0\n",
        "#       # Start iterating over the epochs\n",
        "#       for epoch in range(NUM_EPOCHS):\n",
        "#         #print('Starting epoch {}/{}, LR = {}'.format(epoch+1, NUM_EPOCHS, dann_scheduler.get_lr()))\n",
        "\n",
        "#         # Iterate over the dataset\n",
        "#         for source_image in source_dataloader:\n",
        "#           # Bring data over the device of choice\n",
        "\n",
        "#           target_image = next(iter(target_dataloader))\n",
        "#           source_imgs, source_lbls = source_image\n",
        "#           target_imgs, target_lbls = target_image\n",
        "\n",
        "#           zeros = torch.zeros(source_lbls.shape, dtype=torch.long)\n",
        "#           ones = torch.ones(target_lbls.shape, dtype=torch.long)\n",
        "          \n",
        "#           source_imgs = source_imgs.to(DEVICE)\n",
        "#           target_imgs = target_imgs.to(DEVICE)\n",
        "#           source_lbls = source_lbls.to(DEVICE)\n",
        "#           zeros = zeros.to(DEVICE)\n",
        "#           ones = ones.to(DEVICE)\n",
        "\n",
        "#           net.train() # Sets module in training mode\n",
        "\n",
        "#           dann_optimizer.zero_grad() # Zero-ing the gradients\n",
        "\n",
        "#           outputs = net(source_imgs)\n",
        "#           loss_1 = criterion(outputs, source_lbls)\n",
        "#           loss_1.backward()\n",
        "\n",
        "#           outputs = net(source_imgs, ALPHA)\n",
        "#           loss_2 = criterion(outputs, zeros)\n",
        "#           loss_2.backward()\n",
        "\n",
        "#           outputs = net(target_imgs, ALPHA)\n",
        "#           loss_3 = criterion(outputs, ones)\n",
        "#           loss_3.backward()\n",
        "\n",
        "#           # Log loss\n",
        "#           if current_step % LOG_FREQUENCY == 0:\n",
        "#             print('Step {}, Loss1 {}, Loss2 {}, Loss3 {}'.format(current_step, loss_1.item(),loss_2.item(),loss_3.item()))\n",
        "#           # Compute gradients for each layer and update weights\n",
        "#           dann_optimizer.step() # update weights based on accumulated gradients\n",
        "\n",
        "#           current_step += 1\n",
        "\n",
        "#         # Step the scheduler\n",
        "#         dann_scheduler.step()\n",
        "      \n",
        "#       net = net.to(DEVICE) # this will bring the network to GPU if DEVICE is cuda\n",
        "#       net.train(False) # Set Network to evaluation mode\n",
        "\n",
        "#       running_corrects = 0\n",
        "#       for images, labels in test_dataloader:\n",
        "#         images = images.to(DEVICE)\n",
        "#         labels = labels.to(DEVICE)\n",
        "\n",
        "#         # Forward Pass\n",
        "#         outputs = net(images)\n",
        "\n",
        "#         # Get predictions\n",
        "#         _, preds = torch.max(outputs.data, 1)\n",
        "\n",
        "#         # Update Corrects\n",
        "#         running_corrects += torch.sum(preds == labels.data).data.item()\n",
        "\n",
        "#       # Calculate Accuracy\n",
        "#       accuracy_cartoon = running_corrects / float(len(Cartoons))\n",
        "\n",
        "#       print('Test Accuracy on Cartoon: {}'.format(accuracy_cartoon))\n",
        "\n",
        "#       #Without changing the network\n",
        "#       #Train photos, test sketch\n",
        "\n",
        "#       source_dataloader = DataLoader(Photos, batch_size=BATCH_SIZE, shuffle=True, num_workers=4, drop_last=True)\n",
        "#       target_dataloader = DataLoader(Sketches, batch_size=BATCH_SIZE, shuffle=True, num_workers=4, drop_last=True)\n",
        "#       test_dataloader = DataLoader(Sketches, batch_size=BATCH_SIZE, shuffle=False, num_workers=4)\n",
        "\n",
        "#       #SETTING UP NET\n",
        "#       dann_net = dann(pretrained = True)\n",
        "#       dann_net.classifier[6] = nn.Linear(4096, NUM_CLASSES)\n",
        "#       criterion = nn.CrossEntropyLoss() # for classification, we use Cross Entropy\n",
        "#       dann_parameters_to_optimize = dann_net.parameters()\n",
        "#       dann_optimizer = optim.SGD(dann_parameters_to_optimize, lr=LR, momentum=MOMENTUM, weight_decay=WEIGHT_DECAY)\n",
        "#       dann_scheduler = optim.lr_scheduler.StepLR(dann_optimizer, step_size=STEP_SIZE, gamma=GAMMA)\n",
        "\n",
        "#       net = dann_net.to(DEVICE) # this will bring the network to GPU if DEVICE is cuda\n",
        "\n",
        "#       cudnn.benchmark # Calling this optimizes runtime\n",
        "\n",
        "#       current_step = 0\n",
        "#       # Start iterating over the epochs\n",
        "#       for epoch in range(NUM_EPOCHS):\n",
        "#         #print('Starting epoch {}/{}, LR = {}'.format(epoch+1, NUM_EPOCHS, dann_scheduler.get_lr()))\n",
        "\n",
        "#         # Iterate over the dataset\n",
        "#         for source_image in source_dataloader:\n",
        "#           # Bring data over the device of choice\n",
        "\n",
        "#           target_image = next(iter(target_dataloader))\n",
        "#           source_imgs, source_lbls = source_image\n",
        "#           target_imgs, target_lbls = target_image\n",
        "\n",
        "#           zeros = torch.zeros(source_lbls.shape, dtype=torch.long)\n",
        "#           ones = torch.ones(target_lbls.shape, dtype=torch.long)\n",
        "          \n",
        "#           source_imgs = source_imgs.to(DEVICE)\n",
        "#           target_imgs = target_imgs.to(DEVICE)\n",
        "#           source_lbls = source_lbls.to(DEVICE)\n",
        "#           zeros = zeros.to(DEVICE)\n",
        "#           ones = ones.to(DEVICE)\n",
        "\n",
        "#           net.train() # Sets module in training mode\n",
        "\n",
        "#           dann_optimizer.zero_grad() # Zero-ing the gradients\n",
        "\n",
        "#           outputs = net(source_imgs)\n",
        "#           loss_1 = criterion(outputs, source_lbls)\n",
        "#           loss_1.backward()\n",
        "\n",
        "#           outputs = net(source_imgs, ALPHA)\n",
        "#           loss_2 = criterion(outputs, zeros)\n",
        "#           loss_2.backward()\n",
        "\n",
        "#           outputs = net(target_imgs, ALPHA)\n",
        "#           loss_3 = criterion(outputs, ones)\n",
        "#           loss_3.backward()\n",
        "\n",
        "#           # Log loss\n",
        "#           if current_step % LOG_FREQUENCY == 0:\n",
        "#             print('Step {}, Loss1 {}, Loss2 {}, Loss3 {}'.format(current_step, loss_1.item(),loss_2.item(),loss_3.item()))\n",
        "#           # Compute gradients for each layer and update weights\n",
        "#           dann_optimizer.step() # update weights based on accumulated gradients\n",
        "\n",
        "#           current_step += 1\n",
        "\n",
        "#         # Step the scheduler\n",
        "#         dann_scheduler.step()\n",
        "      \n",
        "#       net = net.to(DEVICE) # this will bring the network to GPU if DEVICE is cuda\n",
        "#       net.train(False) # Set Network to evaluation mode\n",
        "\n",
        "#       running_corrects = 0\n",
        "#       for images, labels in test_dataloader:\n",
        "#         images = images.to(DEVICE)\n",
        "#         labels = labels.to(DEVICE)\n",
        "\n",
        "#         # Forward Pass\n",
        "#         outputs = net(images)\n",
        "\n",
        "#         # Get predictions\n",
        "#         _, preds = torch.max(outputs.data, 1)\n",
        "\n",
        "#         # Update Corrects\n",
        "#         running_corrects += torch.sum(preds == labels.data).data.item()\n",
        "\n",
        "#       # Calculate Accuracy\n",
        "#       accuracy_sketch = running_corrects / float(len(Sketches))\n",
        "\n",
        "#       print('\\nTest Accuracy Sketch: {}'.format(accuracy_sketch))\n",
        "\n",
        "#       accuracy_avg = (accuracy_sketch + accuracy_cartoon)/2\n",
        "#       if best_accuracy > accuracy_avg:\n",
        "#         best_accuracy = accuracy_avg\n",
        "#         best_params = [LR,BATCH_SIZE,ALPHA]\n",
        "#       print('\\nTest Accuracy Average: {}'.format(accuracy_avg))"
      ],
      "execution_count": 0,
      "outputs": []
    },
    {
      "cell_type": "code",
      "metadata": {
        "id": "sF1yHru2PPEn",
        "trusted": true,
        "colab_type": "code",
        "colab": {}
      },
      "source": [
        "# best_params = [0.04, 128, 0.05]\n",
        "# print(best_params)"
      ],
      "execution_count": 0,
      "outputs": []
    },
    {
      "cell_type": "code",
      "metadata": {
        "trusted": true,
        "id": "7XU8fAcZJHLT",
        "colab_type": "code",
        "colab": {}
      },
      "source": [
        "# LR_best = best_params[0]\n",
        "# BS_best = best_params[1]\n",
        "# ALPHA_best = best_params[2]\n",
        "\n",
        "# source_dataloader = DataLoader(Photos, batch_size=BS_best, shuffle=True, num_workers=4, drop_last=True)\n",
        "# target_dataloader = DataLoader(Arts, batch_size=BS_best, shuffle=True, num_workers=4, drop_last=True)\n",
        "# test_dataloader = DataLoader(Arts, batch_size=BS_best, shuffle=False, num_workers=4)\n",
        "\n",
        "\n",
        "# loss1_trend=[]\n",
        "# loss2_trend=[]\n",
        "# loss3_trend=[]\n",
        "\n",
        "# #SETTING UP NET\n",
        "# dann_net_best = dann(pretrained = True)\n",
        "# dann_net_best.classifier[6] = nn.Linear(4096, NUM_CLASSES)\n",
        "# criterion = nn.CrossEntropyLoss() # for classification, we use Cross Entropy\n",
        "# dann_parameters_to_optimize = dann_net_best.parameters()\n",
        "# dann_optimizer = optim.SGD(dann_parameters_to_optimize, lr=LR_best, momentum=MOMENTUM, weight_decay=WEIGHT_DECAY)\n",
        "# dann_scheduler = optim.lr_scheduler.StepLR(dann_optimizer, step_size=STEP_SIZE, gamma=GAMMA)\n",
        "\n",
        "# net = dann_net.to(DEVICE) # this will bring the network to GPU if DEVICE is cuda\n",
        "\n",
        "# cudnn.benchmark # Calling this optimizes runtime\n",
        "\n",
        "# current_step = 0\n",
        "# # Start iterating over the epochs\n",
        "# for epoch in range(NUM_EPOCHS):\n",
        "# #print('Starting epoch {}/{}, LR = {}'.format(epoch+1, NUM_EPOCHS, dann_scheduler.get_lr()))\n",
        "\n",
        "#     # Iterate over the dataset\n",
        "#     for num_el, source_image in source_dataloader:\n",
        "        \n",
        "#         tot1=0\n",
        "#         tot2=0\n",
        "#         tot3=0\n",
        "#           # Bring data over the device of choice\n",
        "\n",
        "#         target_image = next(iter(target_dataloader))\n",
        "#         source_imgs, source_lbls = source_image\n",
        "#         target_imgs, target_lbls = target_image\n",
        "\n",
        "#         zeros = torch.zeros(source_lbls.shape, dtype=torch.long)\n",
        "#         ones = torch.ones(target_lbls.shape, dtype=torch.long)\n",
        "\n",
        "#         source_imgs = source_imgs.to(DEVICE)\n",
        "#         target_imgs = target_imgs.to(DEVICE)\n",
        "#         source_lbls = source_lbls.to(DEVICE)\n",
        "#         zeros = zeros.to(DEVICE)\n",
        "#         ones = ones.to(DEVICE)\n",
        "\n",
        "#         net.train() # Sets module in training mode\n",
        "\n",
        "#         dann_optimizer.zero_grad() # Zero-ing the gradients\n",
        "\n",
        "#         outputs = net(source_imgs)\n",
        "#         loss_1 = criterion(outputs, source_lbls)\n",
        "#         tot1+=loss_1\n",
        "#         loss_1.backward()\n",
        "\n",
        "#         outputs = net(source_imgs, ALPHA_best)\n",
        "#         loss_2 = criterion(outputs, zeros)\n",
        "#         tot2+=loss_2\n",
        "#         loss_2.backward()\n",
        "\n",
        "#         outputs = net(target_imgs, ALPHA_best)\n",
        "#         loss_3 = criterion(outputs, ones)\n",
        "#         tot3+=loss_3\n",
        "#         loss_3.backward()\n",
        "\n",
        "#         # Log loss\n",
        "#         if current_step % LOG_FREQUENCY == 0:\n",
        "#             print('Step {}, Loss1 {}, Loss2 {}, Loss3 {}'.format(current_step, loss_1.item(),loss_2.item(),loss_3.item()))\n",
        "#         # Compute gradients for each layer and update weights\n",
        "#         dann_optimizer.step() # update weights based on accumulated gradients\n",
        "\n",
        "#         current_step += 1\n",
        "\n",
        "#     loss1_trend.append(loss_1)\n",
        "#     loss2_trend.append(loss_2) \n",
        "#     loss3_trend.append(loss_3) \n",
        "\n",
        "# # Step the scheduler\n",
        "# dann_scheduler.step()\n",
        "\n",
        "# net = net.to(DEVICE) # this will bring the network to GPU if DEVICE is cuda\n",
        "# net.train(False) # Set Network to evaluation mode\n",
        "\n",
        "# running_corrects = 0\n",
        "# for images, labels in test_dataloader:\n",
        "#     images = images.to(DEVICE)\n",
        "#     labels = labels.to(DEVICE)\n",
        "\n",
        "#         # Forward Pass\n",
        "#     outputs = net(images)\n",
        "\n",
        "#         # Get predictions\n",
        "#     _, preds = torch.max(outputs.data, 1)\n",
        "\n",
        "#         # Update Corrects\n",
        "#     running_corrects += torch.sum(preds == labels.data).data.item()\n",
        "\n",
        "#       # Calculate Accuracy\n",
        "# accuracy_best = running_corrects / float(len(Arts))\n",
        "\n",
        "# print('\\nTest Accuracy Arts after XD: {}'.format(accuracy_best))"
      ],
      "execution_count": 0,
      "outputs": []
    },
    {
      "cell_type": "code",
      "metadata": {
        "id": "PFiPGJVEFDNB",
        "colab_type": "code",
        "colab": {}
      },
      "source": [
        "# loss1_trend = [0.17374801635742188, 0.1314830183982849, 0.10136518627405167, 0.0921366959810257, 0.04113272577524185, 0.0062138475477695465, 0.025703726336359978, 0.0015649870038032532, 0.011402472853660583, 0.0012216269969940186, 0.004506073892116547, 0.006769582629203796, 0.00040884315967559814, 0.002203267067670822, 0.0008710473775863647, 0.0008120127022266388, 0.013858657330274582, 0.0005325861275196075, 0.0008792951703071594, 0.010212782770395279, 0.007657602429389954, 0.0016020238399505615, 0.0006683245301246643, 0.00038110464811325073, 0.00015410780906677246, 0.00020063668489456177, 0.0011071264743804932, 0.0012451931834220886, 9.332597255706787e-05, 0.0042412132024765015]\n",
        "# loss2_trend = [0.2155022770166397, 1.4326051473617554, 0.15864960849285126, 0.21605674922466278, 0.3724810481071472, 0.24680110812187195, 0.27164384722709656, 0.13285022974014282, 0.10495393723249435, 0.0527406670153141, 0.03116776794195175, 0.1174980103969574, 0.04898623377084732, 0.054999709129333496, 0.04435326159000397, 0.036153510212898254, 0.09098437428474426, 0.029224302619695663, 0.012637573294341564, 0.03803441673517227, 0.07798570394515991, 0.09009431302547455, 0.055349744856357574, 0.03216855973005295, 0.05383186414837837, 0.005868272390216589, 0.04028680920600891, 0.03200049325823784, 0.05988319590687752, 0.0070512560196220875]\n",
        "# loss3_trend = [2.9216716289520264, 0.011479237116873264, 0.4099693298339844, 0.16488388180732727, 0.05375067889690399, 0.10554511845111847, 0.06133623421192169, 0.054543402045965195, 0.15832318365573883, 0.1394714117050171, 0.031028179451823235, 0.05170631781220436, 0.06556188315153122, 0.07217944413423538, 0.04782396927475929, 0.05948096513748169, 0.015436681918799877, 0.03199683129787445, 0.05964517593383789, 0.01526304055005312, 0.009227781556546688, 0.005253888666629791, 0.00945344939827919, 0.041247159242630005, 0.1071583479642868, 0.07670421898365021, 0.05070803686976433, 0.021508805453777313, 0.024618403986096382, 0.059836599975824356]\n"
      ],
      "execution_count": 0,
      "outputs": []
    },
    {
      "cell_type": "code",
      "metadata": {
        "id": "Xodlb15gFLI3",
        "colab_type": "code",
        "outputId": "24fbf449-845d-424b-c41a-369c571699eb",
        "colab": {
          "base_uri": "https://localhost:8080/",
          "height": 1000
        }
      },
      "source": [
        "import seaborn as sns\n",
        "import pandas as pd\n",
        "import numpy as np\n",
        "\n",
        "import seaborn as sns; sns.set()\n",
        "import matplotlib.pyplot as plt\n",
        "fig, ax = plt.subplots(figsize=(20,19), facecolor='white')\n",
        "epochs = np.arange(10, 390, 10)\n",
        "datas_1 = pd.DataFrame(list(zip(epochs, loss1_trend)), columns =['epoch', 'loss'])\n",
        "datas_2 = pd.DataFrame(list(zip(epochs, loss2_trend)), columns =['epoch', 'loss'])\n",
        "datas_3 = pd.DataFrame(list(zip(epochs, loss3_trend)), columns =['epoch', 'loss'])\n",
        "ax = sns.lineplot(x=\"epoch\", y=\"loss\",\n",
        "                  markers=True, dashes=False, data=datas_1)\n",
        "ax = sns.lineplot(x=\"epoch\", y=\"loss\",\n",
        "                  markers=True, dashes=False, data=datas_2)\n",
        "ax = sns.lineplot(x=\"epoch\", y=\"loss\",\n",
        "                  markers=True, dashes=False, data=datas_3)\n",
        "for epoch, value in zip(epochs, loss1_trend):  # Plot also the value of the point close to it\n",
        "  if epoch%20==0 or epoch==10:\n",
        "    ax.annotate(str(round(value, 3)), xy=(epoch, value))\n",
        "for epoch, value in zip(epochs, loss2_trend):  # Plot also the value of the point close to it\n",
        "  if epoch%20==0 or epoch==10:\n",
        "    ax.annotate(str(round(value, 3)), xy=(epoch, value))\n",
        "for epoch, value in zip(epochs, loss3_trend):  # Plot also the value of the point close to it\n",
        "  if epoch%20==0 or epoch==10:\n",
        "    ax.annotate(str(round(value, 3)), xy=(epoch, value))\n",
        "\n",
        "plt.ylim([0.00008, 3.2])\n",
        "plt.gca().legend(('loss_1','loss_2','loss_3'))"
      ],
      "execution_count": 0,
      "outputs": [
        {
          "output_type": "stream",
          "text": [
            "/usr/local/lib/python3.6/dist-packages/statsmodels/tools/_testing.py:19: FutureWarning: pandas.util.testing is deprecated. Use the functions in the public API at pandas.testing instead.\n",
            "  import pandas.util.testing as tm\n"
          ],
          "name": "stderr"
        },
        {
          "output_type": "execute_result",
          "data": {
            "text/plain": [
              "<matplotlib.legend.Legend at 0x7f3df9cebe80>"
            ]
          },
          "metadata": {
            "tags": []
          },
          "execution_count": 19
        },
        {
          "output_type": "display_data",
          "data": {
            "image/png": "[encoded data removed]",
            "text/plain": [
              "<Figure size 1440x1368 with 1 Axes>"
            ]
          },
          "metadata": {
            "tags": []
          }
        }
      ]
    }
  ]
}